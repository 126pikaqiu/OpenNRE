{
 "cells": [
  {
   "cell_type": "code",
   "execution_count": 1,
   "metadata": {},
   "outputs": [],
   "source": [
    "import numpy as np"
   ]
  },
  {
   "cell_type": "code",
   "execution_count": 2,
   "metadata": {},
   "outputs": [],
   "source": [
    "import json"
   ]
  },
  {
   "cell_type": "code",
   "execution_count": 4,
   "metadata": {},
   "outputs": [],
   "source": [
    "json_prefix = \"_processed_data/test_nyt_lyk_\"\n",
    "npy_prefix = \"data_old/test_\""
   ]
  },
  {
   "cell_type": "code",
   "execution_count": 6,
   "metadata": {},
   "outputs": [],
   "source": [
    "json_rel = np.load(json_prefix + \"rel.npy\")"
   ]
  },
  {
   "cell_type": "code",
   "execution_count": 7,
   "metadata": {},
   "outputs": [],
   "source": [
    "npy_rel = np.load(npy_prefix + \"label.npy\")"
   ]
  },
  {
   "cell_type": "code",
   "execution_count": 8,
   "metadata": {},
   "outputs": [
    {
     "data": {
      "text/plain": [
       "array([ True,  True,  True, ...,  True,  True,  True], dtype=bool)"
      ]
     },
     "execution_count": 8,
     "metadata": {},
     "output_type": "execute_result"
    }
   ],
   "source": [
    "json_rel == npy_rel\n"
   ]
  },
  {
   "cell_type": "code",
   "execution_count": 9,
   "metadata": {},
   "outputs": [
    {
     "data": {
      "text/plain": [
       "0"
      ]
     },
     "execution_count": 9,
     "metadata": {},
     "output_type": "execute_result"
    }
   ],
   "source": [
    "(json_rel != npy_rel).sum()"
   ]
  },
  {
   "cell_type": "code",
   "execution_count": 10,
   "metadata": {},
   "outputs": [],
   "source": [
    "json_word = np.load(json_prefix + \"word.npy\")\n",
    "npy_word = np.load(npy_prefix + \"word.npy\")"
   ]
  },
  {
   "cell_type": "code",
   "execution_count": 17,
   "metadata": {},
   "outputs": [],
   "source": [
    "idx = (json_word != npy_word)"
   ]
  },
  {
   "cell_type": "code",
   "execution_count": 18,
   "metadata": {},
   "outputs": [],
   "source": [
    "diff_json_word = json_word[idx]\n",
    "diff_npy_word = npy_word[idx]\n"
   ]
  },
  {
   "cell_type": "code",
   "execution_count": 22,
   "metadata": {},
   "outputs": [
    {
     "name": "stdout",
     "output_type": "stream",
     "text": [
      "[ 85796  85796 110490  85796  92998  85796  85796 110490  85796  85796]\n",
      "[18107 18107 20156 18107 20519 18107 18107 20156 18107 18107]\n"
     ]
    }
   ],
   "source": [
    "print diff_json_word[:10]\n",
    "print diff_npy_word[:10]"
   ]
  },
  {
   "cell_type": "code",
   "execution_count": 27,
   "metadata": {},
   "outputs": [
    {
     "data": {
      "text/plain": [
       "array([  8868,     20,     11,     16,     51,     35,    971,    491,\n",
       "        39392, 114042,   2649,      5,    399, 114042,      7,  85796,\n",
       "        80615, 114042,   1516, 114042,    151,    744,      8,   1517,\n",
       "           78,  13161,   4415,     89,    315,    200, 114042,   6979,\n",
       "           21, 114042,   3000,      2, 114043, 114043, 114043, 114043,\n",
       "       114043, 114043, 114043, 114043, 114043, 114043, 114043, 114043,\n",
       "       114043, 114043, 114043, 114043, 114043, 114043, 114043, 114043,\n",
       "       114043, 114043, 114043, 114043, 114043, 114043, 114043, 114043,\n",
       "       114043, 114043, 114043, 114043, 114043, 114043, 114043, 114043,\n",
       "       114043, 114043, 114043, 114043, 114043, 114043, 114043, 114043,\n",
       "       114043, 114043, 114043, 114043, 114043, 114043, 114043, 114043,\n",
       "       114043, 114043, 114043, 114043, 114043, 114043, 114043, 114043,\n",
       "       114043, 114043, 114043, 114043, 114043, 114043, 114043, 114043,\n",
       "       114043, 114043, 114043, 114043, 114043, 114043, 114043, 114043,\n",
       "       114043, 114043, 114043, 114043, 114043, 114043, 114043, 114043], dtype=int32)"
      ]
     },
     "execution_count": 27,
     "metadata": {},
     "output_type": "execute_result"
    }
   ],
   "source": [
    "json_word[895]"
   ]
  },
  {
   "cell_type": "code",
   "execution_count": 28,
   "metadata": {},
   "outputs": [
    {
     "data": {
      "text/plain": [
       "array([  8868,     20,     11,     16,     51,     35,    971,    491,\n",
       "        39392, 114042,   2649,      5,    399, 114042,      7,  18107,\n",
       "        80615, 114042,   1516, 114042,    151,    744,      8,   1517,\n",
       "           78,  13161,   4415,     89,    315,    200, 114042,   6979,\n",
       "           21, 114042,   3000,      2, 114043, 114043, 114043, 114043,\n",
       "       114043, 114043, 114043, 114043, 114043, 114043, 114043, 114043,\n",
       "       114043, 114043, 114043, 114043, 114043, 114043, 114043, 114043,\n",
       "       114043, 114043, 114043, 114043, 114043, 114043, 114043, 114043,\n",
       "       114043, 114043, 114043, 114043, 114043, 114043, 114043, 114043,\n",
       "       114043, 114043, 114043, 114043, 114043, 114043, 114043, 114043,\n",
       "       114043, 114043, 114043, 114043, 114043, 114043, 114043, 114043,\n",
       "       114043, 114043, 114043, 114043, 114043, 114043, 114043, 114043,\n",
       "       114043, 114043, 114043, 114043, 114043, 114043, 114043, 114043,\n",
       "       114043, 114043, 114043, 114043, 114043, 114043, 114043, 114043,\n",
       "       114043, 114043, 114043, 114043, 114043, 114043, 114043, 114043], dtype=int32)"
      ]
     },
     "execution_count": 28,
     "metadata": {},
     "output_type": "execute_result"
    }
   ],
   "source": [
    "npy_word[895]"
   ]
  },
  {
   "cell_type": "code",
   "execution_count": 34,
   "metadata": {},
   "outputs": [],
   "source": [
    "json_pos1 = np.load(json_prefix + \"pos1.npy\")\n",
    "npy_pos1 = np.load(npy_prefix + \"pos1.npy\")"
   ]
  },
  {
   "cell_type": "code",
   "execution_count": 38,
   "metadata": {},
   "outputs": [],
   "source": [
    "npy_pos1 = npy_pos1 + 20"
   ]
  },
  {
   "cell_type": "code",
   "execution_count": 45,
   "metadata": {},
   "outputs": [
    {
     "data": {
      "text/plain": [
       "8575"
      ]
     },
     "execution_count": 45,
     "metadata": {},
     "output_type": "execute_result"
    }
   ],
   "source": [
    "(json_pos1[:, 0] != npy_pos1[:, 0]).sum()"
   ]
  },
  {
   "cell_type": "code",
   "execution_count": 48,
   "metadata": {},
   "outputs": [],
   "source": [
    "index = (json_pos1[:, 0] != npy_pos1[:, 0])"
   ]
  },
  {
   "cell_type": "code",
   "execution_count": 49,
   "metadata": {},
   "outputs": [
    {
     "data": {
      "text/plain": [
       "6"
      ]
     },
     "execution_count": 49,
     "metadata": {},
     "output_type": "execute_result"
    }
   ],
   "source": [
    "index.argmax()"
   ]
  },
  {
   "cell_type": "code",
   "execution_count": 50,
   "metadata": {},
   "outputs": [
    {
     "data": {
      "text/plain": [
       "array([118, 119, 120, 121, 122, 123, 124, 125, 126, 127, 128, 129, 130,\n",
       "       131, 132, 133, 134, 135, 136, 137, 138, 139, 140, 141, 142, 143,\n",
       "       144, 145, 146, 147, 148, 149, 150, 151, 152, 153, 154, 155, 156,\n",
       "       157, 158, 159, 160, 161, 162, 163, 164, 165, 166, 167, 168, 169,\n",
       "       170, 171, 172, 173, 174, 175, 176, 177, 178, 179, 180, 181, 182,\n",
       "       183, 184, 185, 186, 187, 188, 189, 190, 191, 192, 193, 194, 195,\n",
       "       196, 197, 198, 199, 200, 201, 202, 203, 204, 205, 206, 207, 208,\n",
       "       209, 210, 211, 212, 213, 214, 215, 216, 217, 218, 219, 220, 221,\n",
       "       222, 223, 224, 225, 226, 227, 228, 229, 230, 231, 232, 233, 234,\n",
       "       235, 236, 237], dtype=int32)"
      ]
     },
     "execution_count": 50,
     "metadata": {},
     "output_type": "execute_result"
    }
   ],
   "source": [
    "json_pos1[6]"
   ]
  },
  {
   "cell_type": "code",
   "execution_count": 51,
   "metadata": {},
   "outputs": [
    {
     "data": {
      "text/plain": [
       "array([102, 103, 104, 105, 106, 107, 108, 109, 110, 111, 112, 113, 114,\n",
       "       115, 116, 117, 118, 119, 120, 121, 122, 123, 124, 125, 126, 127,\n",
       "       128, 129, 130, 131, 132, 133, 134, 135, 136, 137, 138, 139, 140,\n",
       "       141, 142, 143, 144, 145, 146, 147, 148, 149, 150, 151, 152, 153,\n",
       "       154, 155, 156, 157, 158, 159, 160, 161, 162, 163, 164, 165, 166,\n",
       "       167, 168, 169, 170, 171, 172, 173, 174, 175, 176, 177, 178, 179,\n",
       "       180, 181, 182, 183, 184, 185, 186, 187, 188, 189, 190, 191, 192,\n",
       "       193, 194, 195, 196, 197, 198, 199, 200, 201, 202, 203, 204, 205,\n",
       "       206, 207, 208, 209, 210, 211, 212, 213, 214, 215, 216, 217, 218,\n",
       "       219, 220, 221], dtype=int32)"
      ]
     },
     "execution_count": 51,
     "metadata": {},
     "output_type": "execute_result"
    }
   ],
   "source": [
    "npy_pos1[6]"
   ]
  },
  {
   "cell_type": "code",
   "execution_count": 52,
   "metadata": {},
   "outputs": [
    {
     "data": {
      "text/plain": [
       "array([114042,      1,  13131, 114042,    307,   2189,      1,     20,\n",
       "           21,      3,     90,      3,   1421,     19,   1429,      9,\n",
       "          992,     11,  13131,     51,     34,     57,   1733,      8,\n",
       "          196,      3,   7765,     75,   2450,     43,    691,      8,\n",
       "           53,   1014,      2, 114043, 114043, 114043, 114043, 114043,\n",
       "       114043, 114043, 114043, 114043, 114043, 114043, 114043, 114043,\n",
       "       114043, 114043, 114043, 114043, 114043, 114043, 114043, 114043,\n",
       "       114043, 114043, 114043, 114043, 114043, 114043, 114043, 114043,\n",
       "       114043, 114043, 114043, 114043, 114043, 114043, 114043, 114043,\n",
       "       114043, 114043, 114043, 114043, 114043, 114043, 114043, 114043,\n",
       "       114043, 114043, 114043, 114043, 114043, 114043, 114043, 114043,\n",
       "       114043, 114043, 114043, 114043, 114043, 114043, 114043, 114043,\n",
       "       114043, 114043, 114043, 114043, 114043, 114043, 114043, 114043,\n",
       "       114043, 114043, 114043, 114043, 114043, 114043, 114043, 114043,\n",
       "       114043, 114043, 114043, 114043, 114043, 114043, 114043, 114043], dtype=int32)"
      ]
     },
     "execution_count": 52,
     "metadata": {},
     "output_type": "execute_result"
    }
   ],
   "source": [
    "json_word[6]"
   ]
  },
  {
   "cell_type": "code",
   "execution_count": null,
   "metadata": {},
   "outputs": [],
   "source": [
    "json_word.max()"
   ]
  },
  {
   "cell_type": "code",
   "execution_count": null,
   "metadata": {},
   "outputs": [],
   "source": []
  }
 ],
 "metadata": {
  "kernelspec": {
   "display_name": "Python 2",
   "language": "python",
   "name": "python2"
  },
  "language_info": {
   "codemirror_mode": {
    "name": "ipython",
    "version": 2
   },
   "file_extension": ".py",
   "mimetype": "text/x-python",
   "name": "python",
   "nbconvert_exporter": "python",
   "pygments_lexer": "ipython2",
   "version": "2.7.12"
  }
 },
 "nbformat": 4,
 "nbformat_minor": 2
}
